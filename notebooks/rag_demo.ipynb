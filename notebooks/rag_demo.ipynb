{
 "cells": [
  {
   "cell_type": "markdown",
   "metadata": {},
   "source": [
    "# Knowledge Graph RAG Walkthrough\n",
    "\n",
    "This notebook demonstrates how to query the documentation-driven knowledge graph using the Retrieval Augmented Generation (RAG) pipeline. It assumes you have already ingested one or more markdown files into the project workspace."
   ]
  },
  {
   "cell_type": "code",
   "execution_count": 2,
   "id": "a01a11cd",
   "metadata": {},
   "outputs": [
    {
     "name": "stdout",
     "output_type": "stream",
     "text": [
      "/home/coder/CTC\n"
     ]
    }
   ],
   "source": [
    "cd .."
   ]
  },
  {
   "cell_type": "markdown",
   "metadata": {},
   "source": [
    "## 1. Environment Setup\n",
    "\n",
    "The RAG helper runs locally against the markdown source, so it does not require Neo4j credentials. If you plan to persist results to Neo4j, export `NEO4J_URL`, `NEO4J_USERNAME`, and `NEO4J_PASSWORD` before running the notebook."
   ]
  },
  {
   "cell_type": "code",
   "execution_count": 3,
   "metadata": {},
   "outputs": [],
   "source": [
    "import logging\n",
    "from pathlib import Path\n",
    "\n",
    "from pipelines import run_knowledge_graph_rag_pipeline, run_rule_based_pipeline\n",
    "\n",
    "logging.basicConfig(level=logging.INFO, format=\"%(levelname)s:%(name)s:%(message)s\")"
   ]
  },
  {
   "cell_type": "markdown",
   "metadata": {},
   "source": [
    "## 2. (Optional) Parse or Ingest Additional Documentation\n",
    "\n",
    "If you want to materialize the knowledge graph before querying, you can call the rule-based pipeline directly. This step parses the specified markdown file and optionally writes it to Neo4j when credentials are provided."
   ]
  },
  {
   "cell_type": "code",
   "execution_count": 4,
   "metadata": {},
   "outputs": [],
   "source": [
    "README_PATH = Path(\"ctc-data-translated/readme-en.md\")\n",
    "\n",
    "# Uncomment to run the rule-based pipeline without touching Neo4j.\n",
    "# graph = run_rule_based_pipeline(README_PATH)\n",
    "# len(graph.nodes), len(graph.relationships)"
   ]
  },
  {
   "cell_type": "markdown",
   "metadata": {},
   "source": [
    "## 3. Ask a Question with the RAG Pipeline\n",
    "\n",
    "Provide a natural-language question. The pipeline parses the configured markdown, finds relevant nodes and relationships, builds a prompt, and queries the LLM client."
   ]
  },
  {
   "cell_type": "code",
   "execution_count": 5,
   "metadata": {},
   "outputs": [
    {
     "name": "stderr",
     "output_type": "stream",
     "text": [
      "KG RAG pipeline:   0%|          | 0/5 [00:00<?, ?step/s, Resolving input]INFO:pipelines.rag:RAG pipeline using input (explicit path): ctc-data-translated/readme-en.md\n",
      "KG RAG pipeline:  20%|██        | 1/5 [00:00<00:00, 2242.94step/s, Parsing input]INFO:pipelines.rag:Parsed 120 nodes and 204 relationships\n",
      "KG RAG pipeline:  40%|████      | 2/5 [00:00<00:00, 407.79step/s, Selecting graph context]INFO:pipelines.rag:Context prepared with 6 primary nodes, 3 neighbor nodes, and 15 relationships\n",
      "KG RAG pipeline:  60%|██████    | 3/5 [00:00<00:00, 446.39step/s, Neo4j load skipped]     INFO:pipelines.rag:Neo4j connection details missing; skipping load\n",
      "KG RAG pipeline:  80%|████████  | 4/5 [00:00<00:00, 569.59step/s, Request completion]INFO:httpx:HTTP Request: POST https://genapi.ntq.ai/v1/chat/completions \"HTTP/1.1 200 OK\"\n",
      "INFO:pipelines.rag:LLM response received (1438 characters)\n",
      "KG RAG pipeline: 100%|██████████| 5/5 [00:03<00:00,  1.34step/s, Request completion] \n"
     ]
    }
   ],
   "source": [
    "QUESTION = \"How does the system validate form submissions before persistence?\"\n",
    "\n",
    "rag_result = run_knowledge_graph_rag_pipeline(\n",
    "    QUESTION,\n",
    "    readme_path=README_PATH,\n",
    "    top_k_nodes=6,\n",
    "    max_neighbor_nodes=12,\n",
    "    relationship_limit=24,\n",
    ")"
   ]
  },
  {
   "cell_type": "markdown",
   "metadata": {},
   "source": [
    "## 4. Inspect the Answer and Context\n",
    "\n",
    "The result object exposes the generated answer, the exact prompt sent to the LLM, and the graph context underlying the response. You can adjust the formatting or explore additional fields to debug or enrich the chain."
   ]
  },
  {
   "cell_type": "code",
   "execution_count": 6,
   "metadata": {},
   "outputs": [
    {
     "name": "stdout",
     "output_type": "stream",
     "text": [
      "The system validates form submissions before persistence through the following mechanisms, as inferred from the provided context:\n",
      "\n",
      "- **Form Field Mapping**: The `Main Form` contains fields such as `ankenNo`, `keiyakuKey`, and `actionType`, which are mapped to corresponding `VOProperty` fields (`ankenNo`, `keiyakuKey`, and `actionType`). This mapping ensures that the data entered into the form is correctly aligned with the data model for persistence.\n",
      "\n",
      "- **Source Table Reference**: The `Form_to_VO_Mapping_Main_Form_Table` serves as a source of truth for how form fields map to VO properties. This table likely contains validation rules or constraints that are applied during form submission.\n",
      "\n",
      "- **Validation via Binding**: Each `FormField` (e.g., `ankenNo`, `keiyakuKey`, `actionType`) is connected to a `VOProperty` via the `BINDS_TO` relationship. This implies that the system checks the form data against the properties defined in the VO (Value Object) during submission, ensuring data integrity and correctness.\n",
      "\n",
      "- **Form Submission Context**: Both `anken_cardForm` and `keiyaku_cardForm` include the same `Main Form` fields, suggesting that the validation logic is consistent across these forms and is likely centralized or reused.\n",
      "\n",
      "To fully understand the validation rules, inspect the `Form_to_VO_Mapping_Main_Form_Table` for any constraints or validation logic defined for the fields `ankenNo`, `keiyakuKey`, and `actionType`.\n"
     ]
    }
   ],
   "source": [
    "print(rag_result.answer)"
   ]
  },
  {
   "cell_type": "code",
   "execution_count": 7,
   "metadata": {},
   "outputs": [
    {
     "name": "stdout",
     "output_type": "stream",
     "text": [
      "Primary nodes\n",
      "- form:anken_cardForm / anken_cardForm | labels=Form | props=description=Main Form; section=Form to VO Mapping\n",
      "- form:keiyaku_cardForm / keiyaku_cardForm | labels=Form | props=description=Main Form; section=Form to VO Mapping\n",
      "- source:table:Form_to_VO_Mapping_Main_Form_Table / Main Form Table | labels=Source,TableSource | props=data_type=table; section=Form to VO Mapping\n",
      "- formfield:Main Form:ankenNo / ankenNo | labels=FormField | props=data_type=Long; form_group=Main Form; purpose=Project/case number; section=Form to VO Mapping\n",
      "- vo_property:ankenNo / ankenNo | labels=VOProperty | props=section=Form to VO Mapping\n",
      "- formfield:Main Form:keiyakuKey / keiyakuKey | labels=FormField | props=data_type=Long; form_group=Main Form; purpose=Contract key; section=Form to VO Mapping\n",
      "Connected context nodes\n",
      "- vo_property:keiyakuKey / keiyakuKey | labels=VOProperty | props=section=Form to VO Mapping\n",
      "- formfield:Main Form:actionType / actionType | labels=FormField | props=data_type=String; form_group=Main Form; purpose=Action trigger; section=Form to VO Mapping\n",
      "- vo_property:actionType / actionType | labels=VOProperty | props=section=Form to VO Mapping\n",
      "Relevant relationships\n",
      "- source:table:Form_to_VO_Mapping_Main_Form_Table -[FROM_TABLE]-> formfield:Main Form:ankenNo (section=Form to VO Mapping)\n",
      "- form:anken_cardForm -[HAS_FIELD]-> formfield:Main Form:ankenNo (section=Form to VO Mapping)\n",
      "- form:keiyaku_cardForm -[HAS_FIELD]-> formfield:Main Form:ankenNo (section=Form to VO Mapping)\n",
      "- formfield:Main Form:ankenNo -[BINDS_TO]-> vo_property:ankenNo (section=Form to VO Mapping)\n",
      "- source:table:Form_to_VO_Mapping_Main_Form_Table -[FROM_TABLE]-> vo_property:ankenNo (section=Form to VO Mapping)\n",
      "- source:table:Form_to_VO_Mapping_Main_Form_Table -[FROM_TABLE]-> formfield:Main Form:keiyakuKey (section=Form to VO Mapping)\n",
      "- form:anken_cardForm -[HAS_FIELD]-> formfield:Main Form:keiyakuKey (section=Form to VO Mapping)\n",
      "- form:keiyaku_cardForm -[HAS_FIELD]-> formfield:Main Form:keiyakuKey (section=Form to VO Mapping)\n",
      "- formfield:Main Form:keiyakuKey -[BINDS_TO]-> vo_property:keiyakuKey (section=Form to VO Mapping)\n",
      "- source:table:Form_to_VO_Mapping_Main_Form_Table -[FROM_TABLE]-> vo_property:keiyakuKey (section=Form to VO Mapping)\n",
      "- source:table:Form_to_VO_Mapping_Main_Form_Table -[FROM_TABLE]-> formfield:Main Form:actionType (section=Form to VO Mapping)\n",
      "- form:anken_cardForm -[HAS_FIELD]-> formfield:Main Form:actionType (section=Form to VO Mapping)\n",
      "- form:keiyaku_cardForm -[HAS_FIELD]-> formfield:Main Form:actionType (section=Form to VO Mapping)\n",
      "- formfield:Main Form:actionType -[BINDS_TO]-> vo_property:actionType (section=Form to VO Mapping)\n",
      "- source:table:Form_to_VO_Mapping_Main_Form_Table -[FROM_TABLE]-> vo_property:actionType (section=Form to VO Mapping)\n"
     ]
    }
   ],
   "source": [
    "print(rag_result.context)"
   ]
  },
  {
   "cell_type": "code",
   "execution_count": 8,
   "metadata": {},
   "outputs": [
    {
     "data": {
      "text/plain": [
       "(['form:anken_cardForm',\n",
       "  'form:keiyaku_cardForm',\n",
       "  'source:table:Form_to_VO_Mapping_Main_Form_Table',\n",
       "  'formfield:Main Form:ankenNo',\n",
       "  'vo_property:ankenNo',\n",
       "  'formfield:Main Form:keiyakuKey'],\n",
       " ['vo_property:keiyakuKey',\n",
       "  'formfield:Main Form:actionType',\n",
       "  'vo_property:actionType'])"
      ]
     },
     "execution_count": 8,
     "metadata": {},
     "output_type": "execute_result"
    }
   ],
   "source": [
    "rag_result.primary_node_ids, rag_result.neighbor_node_ids"
   ]
  },
  {
   "cell_type": "markdown",
   "metadata": {},
   "source": [
    "## 5. Next Steps\n",
    "\n",
    "- Tweak `top_k_nodes`, `max_neighbor_nodes`, and `relationship_limit` to control prompt size.\n",
    "- Switch to `run_llm_pipeline` for diagram-to-Cypher generation when Mermaid diagrams are present.\n",
    "- Persist graph data to Neo4j by supplying credentials to the pipelines."
   ]
  }
 ],
 "metadata": {
  "kernelspec": {
   "display_name": "ctc (3.12.11)",
   "language": "python",
   "name": "python3"
  },
  "language_info": {
   "codemirror_mode": {
    "name": "ipython",
    "version": 3
   },
   "file_extension": ".py",
   "mimetype": "text/x-python",
   "name": "python",
   "nbconvert_exporter": "python",
   "pygments_lexer": "ipython3",
   "version": "3.12.11"
  }
 },
 "nbformat": 4,
 "nbformat_minor": 5
}
